{
  "nbformat": 4,
  "nbformat_minor": 0,
  "metadata": {
    "colab": {
      "provenance": [],
      "include_colab_link": true
    },
    "kernelspec": {
      "name": "python3",
      "display_name": "Python 3"
    },
    "language_info": {
      "name": "python"
    }
  },
  "cells": [
    {
      "cell_type": "markdown",
      "metadata": {
        "id": "view-in-github",
        "colab_type": "text"
      },
      "source": [
        "<a href=\"https://colab.research.google.com/github/apicem7217/Clase-6/blob/Phyton/Listas_avanzadas.ipynb\" target=\"_parent\"><img src=\"https://colab.research.google.com/assets/colab-badge.svg\" alt=\"Open In Colab\"/></a>"
      ]
    },
    {
      "cell_type": "markdown",
      "source": [
        "# List comprehension\n",
        "\n",
        "Es una manera rápida y eficiente de ejecutar bucles y almacenar los resultados dentro de una lista."
      ],
      "metadata": {
        "id": "KPuTfwPhkiWC"
      }
    },
    {
      "cell_type": "code",
      "execution_count": null,
      "metadata": {
        "id": "5ybPfh1SkKHo"
      },
      "outputs": [],
      "source": [
        "# Mi variable nueva_lista es la lista donde almacenaremos\n",
        "# el resultado de nuestro proceso\n",
        "nueva_lista = []\n",
        "\n",
        "for i in range(10):\n",
        "  nueva_lista.append(i ** 2)"
      ]
    },
    {
      "cell_type": "code",
      "source": [
        "print(nueva_lista)"
      ],
      "metadata": {
        "colab": {
          "base_uri": "https://localhost:8080/"
        },
        "id": "9ASszP_WlAXj",
        "outputId": "7bac9252-28ac-4efb-b120-c73a17a9fd2d"
      },
      "execution_count": null,
      "outputs": [
        {
          "output_type": "stream",
          "name": "stdout",
          "text": [
            "[0, 1, 4, 9, 16, 25, 36, 49, 64, 81]\n"
          ]
        }
      ]
    },
    {
      "cell_type": "code",
      "source": [
        "# La primer parte de un list comprehension es el valor\n",
        "# que queremos almacenar. En este ejemplo, el valor\n",
        "# es igual a i ** 2\n",
        "nueva_lista = [i ** 2 for i in range(10)]"
      ],
      "metadata": {
        "id": "ScV9xLQmlKUK"
      },
      "execution_count": null,
      "outputs": []
    },
    {
      "cell_type": "code",
      "source": [
        "print(nueva_lista)"
      ],
      "metadata": {
        "colab": {
          "base_uri": "https://localhost:8080/"
        },
        "id": "wwUkBagGlX_A",
        "outputId": "c17233a2-508c-4ce2-96d5-0677cf5a388a"
      },
      "execution_count": null,
      "outputs": [
        {
          "output_type": "stream",
          "name": "stdout",
          "text": [
            "[0, 1, 4, 9, 16, 25, 36, 49, 64, 81]\n"
          ]
        }
      ]
    },
    {
      "cell_type": "code",
      "source": [
        "numeros_lista = [0, 2, 3, 5, 8, 10, 11, 14]\n",
        "numeros_pares_lista = []\n",
        "for num in numeros_lista:\n",
        "  if num % 2 == 0 and num > 0:\n",
        "    numeros_pares_lista.append(num)"
      ],
      "metadata": {
        "id": "Nn79JLBslt7C"
      },
      "execution_count": null,
      "outputs": []
    },
    {
      "cell_type": "code",
      "source": [
        "numeros_pares_lista"
      ],
      "metadata": {
        "colab": {
          "base_uri": "https://localhost:8080/"
        },
        "id": "6MLpau_2mRVz",
        "outputId": "9d8f350a-a1e3-4ca6-8f60-79128a17ffe2"
      },
      "execution_count": null,
      "outputs": [
        {
          "output_type": "execute_result",
          "data": {
            "text/plain": [
              "[2, 8, 10, 14]"
            ]
          },
          "metadata": {},
          "execution_count": 10
        }
      ]
    },
    {
      "cell_type": "code",
      "source": [
        "numeros_pares_lista = [num for num in numeros_lista if num % 2 == 0 and num > 0]"
      ],
      "metadata": {
        "id": "0Gm50sqEmdpW"
      },
      "execution_count": null,
      "outputs": []
    },
    {
      "cell_type": "code",
      "source": [
        "numeros_pares_lista"
      ],
      "metadata": {
        "colab": {
          "base_uri": "https://localhost:8080/"
        },
        "id": "GHbN4AN0m3Jp",
        "outputId": "780d6fb1-5582-4105-a12e-8d27e3c79040"
      },
      "execution_count": null,
      "outputs": [
        {
          "output_type": "execute_result",
          "data": {
            "text/plain": [
              "[2, 8, 10, 14]"
            ]
          },
          "metadata": {},
          "execution_count": 12
        }
      ]
    },
    {
      "cell_type": "code",
      "source": [
        "\"Volver al futuro\".split()"
      ],
      "metadata": {
        "colab": {
          "base_uri": "https://localhost:8080/"
        },
        "id": "hB7E4jT3orvx",
        "outputId": "5e3707b9-1ac2-43d1-cc04-6755ccd8a499"
      },
      "execution_count": null,
      "outputs": [
        {
          "output_type": "execute_result",
          "data": {
            "text/plain": [
              "['Volver', 'al', 'futuro']"
            ]
          },
          "metadata": {},
          "execution_count": 13
        }
      ]
    },
    {
      "cell_type": "code",
      "source": [
        "texto_procesado_lista = [(palabra.upper(), palabra.lower(), len(palabra))\n",
        "    for palabra in \"Volver al futuro\".split()]"
      ],
      "metadata": {
        "id": "i2FQHDhjoP2i"
      },
      "execution_count": null,
      "outputs": []
    },
    {
      "cell_type": "code",
      "source": [
        "texto_procesado_lista"
      ],
      "metadata": {
        "colab": {
          "base_uri": "https://localhost:8080/"
        },
        "id": "_nUknr2qo3lA",
        "outputId": "f8ab5c2a-ede9-49e5-af4d-1724847b5258"
      },
      "execution_count": null,
      "outputs": [
        {
          "output_type": "execute_result",
          "data": {
            "text/plain": [
              "[('VOLVER', 'volver', 6), ('AL', 'al', 2), ('FUTURO', 'futuro', 6)]"
            ]
          },
          "metadata": {},
          "execution_count": 21
        }
      ]
    },
    {
      "cell_type": "code",
      "source": [
        "len(texto_procesado_lista)"
      ],
      "metadata": {
        "colab": {
          "base_uri": "https://localhost:8080/"
        },
        "id": "p-4i42mEo7oX",
        "outputId": "5591be43-96d9-4e0e-bf24-1b446d65aa0d"
      },
      "execution_count": null,
      "outputs": [
        {
          "output_type": "execute_result",
          "data": {
            "text/plain": [
              "3"
            ]
          },
          "metadata": {},
          "execution_count": 22
        }
      ]
    },
    {
      "cell_type": "markdown",
      "source": [
        "# Funciones lambda\n",
        "- Se utiliza la palabra reservada `lambda`\n",
        "- funciones escrita en una línea de código\n",
        "- No tienen `return` para devolver un valor\n",
        "- No tienen nombre"
      ],
      "metadata": {
        "id": "xCVV72KCplMR"
      }
    },
    {
      "cell_type": "code",
      "source": [
        "def func(x): return x ** 2"
      ],
      "metadata": {
        "id": "oZn1FrCYpn2x"
      },
      "execution_count": null,
      "outputs": []
    },
    {
      "cell_type": "code",
      "source": [
        "func(4)"
      ],
      "metadata": {
        "colab": {
          "base_uri": "https://localhost:8080/"
        },
        "id": "rjQ5qojiqF3C",
        "outputId": "2e7d27cf-f3c9-44a1-e535-d5518ae0c1fa"
      },
      "execution_count": null,
      "outputs": [
        {
          "output_type": "execute_result",
          "data": {
            "text/plain": [
              "16"
            ]
          },
          "metadata": {},
          "execution_count": 27
        }
      ]
    },
    {
      "cell_type": "code",
      "source": [
        "func_lambda = lambda x: x ** 2"
      ],
      "metadata": {
        "id": "sZCU6311qRul"
      },
      "execution_count": null,
      "outputs": []
    },
    {
      "cell_type": "code",
      "source": [
        "print(func_lambda)"
      ],
      "metadata": {
        "colab": {
          "base_uri": "https://localhost:8080/"
        },
        "id": "HTh10AqPqj-l",
        "outputId": "e8a1f9da-c85a-4730-d432-5989a32a712e"
      },
      "execution_count": null,
      "outputs": [
        {
          "output_type": "stream",
          "name": "stdout",
          "text": [
            "<function <lambda> at 0x7f018d7a1c60>\n"
          ]
        }
      ]
    },
    {
      "cell_type": "code",
      "source": [
        "func_lambda(4)"
      ],
      "metadata": {
        "colab": {
          "base_uri": "https://localhost:8080/"
        },
        "id": "T-CC3sJLqvPY",
        "outputId": "3a4464dd-7925-461f-daf7-5533ad09144b"
      },
      "execution_count": null,
      "outputs": [
        {
          "output_type": "execute_result",
          "data": {
            "text/plain": [
              "16"
            ]
          },
          "metadata": {},
          "execution_count": 30
        }
      ]
    },
    {
      "cell_type": "markdown",
      "source": [
        "# Sorted"
      ],
      "metadata": {
        "id": "MJkY2nBSswVe"
      }
    },
    {
      "cell_type": "code",
      "source": [
        "mi_lista = [\"Apple\", \"apple\", \"ball\", \"Ball\", \"cat\"]\n",
        "mi_lista"
      ],
      "metadata": {
        "colab": {
          "base_uri": "https://localhost:8080/"
        },
        "id": "UQau6cgStRjB",
        "outputId": "b7fc167a-f4e0-4060-9207-c132182eaeb1"
      },
      "execution_count": null,
      "outputs": [
        {
          "output_type": "execute_result",
          "data": {
            "text/plain": [
              "['Apple', 'apple', 'ball', 'Ball', 'cat']"
            ]
          },
          "metadata": {},
          "execution_count": 32
        }
      ]
    },
    {
      "cell_type": "code",
      "source": [
        "sorted(mi_lista)"
      ],
      "metadata": {
        "colab": {
          "base_uri": "https://localhost:8080/"
        },
        "id": "FtYBq7AJsnNN",
        "outputId": "9397d2ca-4251-4aa4-fd72-5dba028b8ed8"
      },
      "execution_count": null,
      "outputs": [
        {
          "output_type": "execute_result",
          "data": {
            "text/plain": [
              "['Apple', 'Ball', 'apple', 'ball', 'cat']"
            ]
          },
          "metadata": {},
          "execution_count": 33
        }
      ]
    },
    {
      "cell_type": "code",
      "source": [
        "sorted(mi_lista, key=lambda x: x.lower())"
      ],
      "metadata": {
        "colab": {
          "base_uri": "https://localhost:8080/"
        },
        "id": "TXGOF6-VtLWT",
        "outputId": "a322dedb-7616-4445-f5d0-a6c50f9e3182"
      },
      "execution_count": null,
      "outputs": [
        {
          "output_type": "execute_result",
          "data": {
            "text/plain": [
              "['Apple', 'apple', 'ball', 'Ball', 'cat']"
            ]
          },
          "metadata": {},
          "execution_count": 34
        }
      ]
    },
    {
      "cell_type": "markdown",
      "source": [
        "# filter\n",
        "\n",
        "Nos regresa una nueva lista, que contien cada elemento en que una función regresa `True`\n",
        "\n",
        "Nota: `iterator protocol` está compuesto por: `__iter__()` y `__next__()`"
      ],
      "metadata": {
        "id": "-xYH2t_Ft0LM"
      }
    },
    {
      "cell_type": "code",
      "source": [
        "# help(filter)"
      ],
      "metadata": {
        "id": "fRsaH4S2uAKr"
      },
      "execution_count": null,
      "outputs": []
    },
    {
      "cell_type": "code",
      "source": [
        "numeros_lista = [2, 18, 9, 22, 17, 24, 8, 12, 27]"
      ],
      "metadata": {
        "id": "6yWwSTd0umBy"
      },
      "execution_count": null,
      "outputs": []
    },
    {
      "cell_type": "code",
      "source": [
        "# filtrada_list = []\n",
        "\n",
        "# for num in numeros_lista:\n",
        "#   if num % 3 == 0:\n",
        "#     filtrada_list.append(num)\n",
        "\n",
        "# filtrada_list"
      ],
      "metadata": {
        "id": "PuewMTmDwhgY"
      },
      "execution_count": null,
      "outputs": []
    },
    {
      "cell_type": "code",
      "source": [
        "list(filter(lambda numero: numero % 3 == 0, numeros_lista))"
      ],
      "metadata": {
        "colab": {
          "base_uri": "https://localhost:8080/"
        },
        "id": "nBO3aDEXuslc",
        "outputId": "5058cf4e-d99e-45b5-f1ed-5b3ae458aee1"
      },
      "execution_count": null,
      "outputs": [
        {
          "output_type": "execute_result",
          "data": {
            "text/plain": [
              "[18, 9, 24, 12, 27]"
            ]
          },
          "metadata": {},
          "execution_count": 41
        }
      ]
    },
    {
      "cell_type": "markdown",
      "source": [
        "# map\n",
        "Regresa un iterador que aplica una función sobre cada elemento de una lista."
      ],
      "metadata": {
        "id": "LhjFb-1Qwn-9"
      }
    },
    {
      "cell_type": "code",
      "source": [
        "numeros_lista = list(range(1, 11))\n",
        "numeros_lista"
      ],
      "metadata": {
        "colab": {
          "base_uri": "https://localhost:8080/"
        },
        "id": "a8mp20wPu8eC",
        "outputId": "3f5e6f2c-eebf-4405-d2c7-48f50403c629"
      },
      "execution_count": null,
      "outputs": [
        {
          "output_type": "execute_result",
          "data": {
            "text/plain": [
              "[1, 2, 3, 4, 5, 6, 7, 8, 9, 10]"
            ]
          },
          "metadata": {},
          "execution_count": 42
        }
      ]
    },
    {
      "cell_type": "code",
      "source": [
        "cuadrados_lista = []\n",
        "for numero in numeros_lista:\n",
        "  cuadrado = numero ** 2\n",
        "  cuadrados_lista.append(cuadrado)"
      ],
      "metadata": {
        "id": "hQ320WLixK3C"
      },
      "execution_count": null,
      "outputs": []
    },
    {
      "cell_type": "code",
      "source": [
        "list(map(lambda numero: numero ** 2, numeros_lista))"
      ],
      "metadata": {
        "colab": {
          "base_uri": "https://localhost:8080/"
        },
        "id": "-ynG0Gwcw9R1",
        "outputId": "1057d81c-29f0-4adc-f917-88684ca1974e"
      },
      "execution_count": null,
      "outputs": [
        {
          "output_type": "execute_result",
          "data": {
            "text/plain": [
              "[1, 4, 9, 16, 25, 36, 49, 64, 81, 100]"
            ]
          },
          "metadata": {},
          "execution_count": 44
        }
      ]
    },
    {
      "cell_type": "code",
      "source": [
        "texto = \"Volver al futuro\"\n",
        "# p = palabra\n",
        "list(map(lambda p: (p.upper(), p.lower(), len(p)), texto.split()))\n",
        "\n",
        "# Usando list comprehension quedaría como:\n",
        "# [(p.upper(), p.lower(), len(p)) for p in \"Volver al futuro\".split()]"
      ],
      "metadata": {
        "colab": {
          "base_uri": "https://localhost:8080/"
        },
        "id": "33thEDEBxpLi",
        "outputId": "04ae2165-3740-4ad5-fc3f-308c79c17945"
      },
      "execution_count": null,
      "outputs": [
        {
          "output_type": "execute_result",
          "data": {
            "text/plain": [
              "[('VOLVER', 'volver', 6), ('AL', 'al', 2), ('FUTURO', 'futuro', 6)]"
            ]
          },
          "metadata": {},
          "execution_count": 48
        }
      ]
    },
    {
      "cell_type": "markdown",
      "source": [
        "# reduce\n",
        "\n",
        "- Hay importarla del módulo functools\n",
        "- Reducir una lista de valores a un solo valor"
      ],
      "metadata": {
        "id": "NB68KmmbyUNw"
      }
    },
    {
      "cell_type": "code",
      "source": [
        "from functools import reduce\n",
        "\n",
        "def sum(a, b):\n",
        "    print(f\"a={a}, b={b}, {a} + {b} ={a+b}\")\n",
        "    return a + b\n",
        "\n",
        "\n",
        "scores = [75, 65, 80, 95, 50]\n",
        "total = reduce(sum, scores)\n",
        "print(total)"
      ],
      "metadata": {
        "colab": {
          "base_uri": "https://localhost:8080/"
        },
        "id": "3gYmm0kszYy-",
        "outputId": "e24d0e4a-7e5a-4bc3-fc5a-32853d0437d5"
      },
      "execution_count": null,
      "outputs": [
        {
          "output_type": "stream",
          "name": "stdout",
          "text": [
            "a=75, b=65, 75 + 65 =140\n",
            "a=140, b=80, 140 + 80 =220\n",
            "a=220, b=95, 220 + 95 =315\n",
            "a=315, b=50, 315 + 50 =365\n",
            "365\n"
          ]
        }
      ]
    },
    {
      "cell_type": "code",
      "source": [
        "reduce(lambda a, b: a + b, scores)"
      ],
      "metadata": {
        "colab": {
          "base_uri": "https://localhost:8080/"
        },
        "id": "Ga7z7LsV0pLV",
        "outputId": "da4f4852-cc6e-4d08-b35c-78664fb58d62"
      },
      "execution_count": null,
      "outputs": [
        {
          "output_type": "execute_result",
          "data": {
            "text/plain": [
              "365"
            ]
          },
          "metadata": {},
          "execution_count": 50
        }
      ]
    }
  ]
}