{
  "cells": [
    {
      "cell_type": "markdown",
      "metadata": {
        "id": "view-in-github",
        "colab_type": "text"
      },
      "source": [
        "<a href=\"https://colab.research.google.com/github/apicem7217/Clase-6/blob/Phyton/Ch09_1_Dictionaries.ipynb\" target=\"_parent\"><img src=\"https://colab.research.google.com/assets/colab-badge.svg\" alt=\"Open In Colab\"/></a>"
      ]
    },
    {
      "cell_type": "markdown",
      "metadata": {
        "id": "jartmYI7b3HH"
      },
      "source": [
        "# 9 Dictionaries\n",
        "<a href=\"https://colab.research.google.com/github/rambasnet/FDSPython-Notebooks/blob/master/Ch09-1-Dictionaries.ipynb\" target=\"_parent\"><img src=\"https://colab.research.google.com/assets/colab-badge.svg\" alt=\"Open In Colab\"/></a>\n",
        "\n",
        "http://openbookproject.net/thinkcs/python/english3e/dictionaries.html\n",
        "\n",
        "## Topics\n",
        "- dictionary data types\n",
        "- create and use dictionary\n",
        "- dictionary methods and operations\n",
        "- dictionary applications and problems\n",
        "\n",
        "\n",
        "## 9.1 Dictionary\n",
        "- another compound type/container like lists and tuples\n",
        "- very useful data structure/container that can store data as lookup table\n",
        "- Python's mapping type similar to `map` container, or associative arrays in C++ and other languages\n",
        "- dictionaries maps keys (immutable type) to values of any type (heterogeneous)\n",
        "- Python uses complex hash algorithm to index key for fast access (Worst case \"Big-Oh\": $O(1)$)\n",
        "    - as a result the ordering is not maintained\n",
        "- starting from verion 3.7, python dict remembers the oderes of the elements inserted"
      ]
    },
    {
      "cell_type": "markdown",
      "metadata": {
        "id": "I44Sbborb3HK"
      },
      "source": [
        "## 9.2 Creating dictionary objects"
      ]
    },
    {
      "cell_type": "code",
      "execution_count": null,
      "metadata": {
        "id": "8HBeOYjcb3HM"
      },
      "outputs": [],
      "source": [
        "eng2sp = {} # or\n",
        "eng2sp1 = dict()"
      ]
    },
    {
      "cell_type": "code",
      "execution_count": null,
      "metadata": {
        "id": "qHqYukNIb3HO",
        "outputId": "bb2c8163-a662-4876-fc79-1a8c8e4bce52"
      },
      "outputs": [
        {
          "name": "stdout",
          "output_type": "stream",
          "text": [
            "{} {}\n"
          ]
        }
      ],
      "source": [
        "print(eng2sp, eng2sp1)"
      ]
    },
    {
      "cell_type": "code",
      "execution_count": null,
      "metadata": {
        "id": "BkbC3XfCb3HQ"
      },
      "outputs": [],
      "source": [
        "eng2sp[\"One\"] = \"uno\"\n",
        "eng2sp[\"two\"] = \"dos\"\n",
        "eng2sp[\"three\"] = \"tres\"\n",
        "eng2sp[4] = \"quatro\"\n",
        "eng2sp[\"five\"] = \"sinco\""
      ]
    },
    {
      "cell_type": "code",
      "execution_count": null,
      "metadata": {
        "id": "F9U6IeYpb3HR",
        "outputId": "31ae145e-9cfd-45d2-e2bf-67919fbe831a"
      },
      "outputs": [
        {
          "data": {
            "text/plain": [
              "{'One': 'uno', 'two': 'dos', 'three': 'tres', 4: 'quatro', 'five': 'sinco'}"
            ]
          },
          "execution_count": 4,
          "metadata": {},
          "output_type": "execute_result"
        }
      ],
      "source": [
        "eng2sp"
      ]
    },
    {
      "cell_type": "code",
      "execution_count": null,
      "metadata": {
        "id": "ivvbNQXYb3HR"
      },
      "outputs": [],
      "source": [
        "key = 'Five'\n",
        "eng2sp[key] = 'Sinco'"
      ]
    },
    {
      "cell_type": "code",
      "execution_count": null,
      "metadata": {
        "id": "2l73Bofqb3HR",
        "outputId": "3a9d82bc-e557-4b76-ef87-2ac78c83fa1b"
      },
      "outputs": [
        {
          "name": "stdout",
          "output_type": "stream",
          "text": [
            "{'One': 'uno', 'two': 'dos', 'three': 'tres', 4: 'quatro', 'five': 'sinco', 'Five': 'Sinco'}\n"
          ]
        }
      ],
      "source": [
        "print(eng2sp)"
      ]
    },
    {
      "cell_type": "code",
      "execution_count": null,
      "metadata": {
        "id": "SycHSu6zb3HS",
        "outputId": "d7b3f74c-ca68-4f75-a93e-c5fd176233d5"
      },
      "outputs": [
        {
          "name": "stdout",
          "output_type": "stream",
          "text": [
            "uno\n"
          ]
        }
      ],
      "source": [
        "print(eng2sp['One'])"
      ]
    },
    {
      "cell_type": "code",
      "execution_count": null,
      "metadata": {
        "id": "nDfda-O7b3HS"
      },
      "outputs": [],
      "source": [
        "symbolNames = {'*':'asterick', '+':\"plus\", '-': 'minus'}"
      ]
    },
    {
      "cell_type": "code",
      "execution_count": null,
      "metadata": {
        "id": "ujGuN7CMb3HS",
        "outputId": "0e98b53d-f914-4fd0-9c4b-235a1d34501a"
      },
      "outputs": [
        {
          "name": "stdout",
          "output_type": "stream",
          "text": [
            "{'One': 'uno', 'two': 'dos', 'three': 'tres', 4: 'quatro', 'five': 'sinco', 'Five': 'Sinco'} {'*': 'asterick', '+': 'plus', '-': 'minus'}\n"
          ]
        }
      ],
      "source": [
        "print(eng2sp, symbolNames)"
      ]
    },
    {
      "cell_type": "code",
      "execution_count": null,
      "metadata": {
        "id": "kJue1Y37b3HS"
      },
      "outputs": [],
      "source": [
        "dict1 ={'one': 'uno', 'two': 'dos', 'three': 'tres', '4': 'quatro', 'five': 'sinco'}"
      ]
    },
    {
      "cell_type": "code",
      "execution_count": null,
      "metadata": {
        "id": "4jtV6U1_b3HT",
        "outputId": "754ac6c0-be44-444f-d72f-a8a81434136a"
      },
      "outputs": [
        {
          "data": {
            "text/plain": [
              "{'one': 'uno', 'two': 'dos', 'three': 'tres', '4': 'quatro', 'five': 'sinco'}"
            ]
          },
          "execution_count": 12,
          "metadata": {},
          "output_type": "execute_result"
        }
      ],
      "source": [
        "dict1"
      ]
    },
    {
      "cell_type": "markdown",
      "metadata": {
        "id": "tE58BGKMb3HT"
      },
      "source": [
        "## 9.3 Accessing values\n",
        "- use index operator ['key']\n",
        "- dict is mutable"
      ]
    },
    {
      "cell_type": "code",
      "execution_count": null,
      "metadata": {
        "id": "FPxnmU3Fb3HT"
      },
      "outputs": [],
      "source": [
        "one = 'One'"
      ]
    },
    {
      "cell_type": "code",
      "execution_count": null,
      "metadata": {
        "id": "o3tgYG2Rb3HT",
        "outputId": "da82d46d-859b-4262-92df-de0b37fa0e1d"
      },
      "outputs": [
        {
          "data": {
            "text/plain": [
              "'uno'"
            ]
          },
          "execution_count": 15,
          "metadata": {},
          "output_type": "execute_result"
        }
      ],
      "source": [
        "eng2sp[one]"
      ]
    },
    {
      "cell_type": "code",
      "execution_count": null,
      "metadata": {
        "id": "nQsChDcfb3HT",
        "outputId": "a5c5b918-fd66-484b-813c-e20ea55c8cab"
      },
      "outputs": [
        {
          "data": {
            "text/plain": [
              "{'One': 'uno',\n",
              " 'two': 'dos',\n",
              " 'three': 'tres',\n",
              " 4: 'quatro',\n",
              " 'five': 'sinco',\n",
              " 'Five': 'Sinco'}"
            ]
          },
          "execution_count": 16,
          "metadata": {},
          "output_type": "execute_result"
        }
      ],
      "source": [
        "eng2sp"
      ]
    },
    {
      "cell_type": "code",
      "execution_count": null,
      "metadata": {
        "id": "mlqmNdJEb3HT",
        "outputId": "804c32c8-97ee-485f-b642-af05f1956271"
      },
      "outputs": [
        {
          "name": "stdout",
          "output_type": "stream",
          "text": [
            "diez\n"
          ]
        }
      ],
      "source": [
        "eng2sp['ten'] = 'diez'\n",
        "print(eng2sp['ten'])"
      ]
    },
    {
      "cell_type": "code",
      "execution_count": null,
      "metadata": {
        "id": "3ssxdTDDb3HU"
      },
      "outputs": [],
      "source": [
        "eng2sp['One'] = 'Uno'"
      ]
    },
    {
      "cell_type": "code",
      "execution_count": null,
      "metadata": {
        "id": "SJb7-dzMb3HU",
        "outputId": "645d42e4-00ec-422a-9ff1-73b395197c5b"
      },
      "outputs": [
        {
          "data": {
            "text/plain": [
              "{'One': 'Uno',\n",
              " 'two': 'dos',\n",
              " 'three': 'tres',\n",
              " 4: 'quatro',\n",
              " 'five': 'sinco',\n",
              " 'Five': 'Sinco',\n",
              " 'ten': 'diez'}"
            ]
          },
          "execution_count": 19,
          "metadata": {},
          "output_type": "execute_result"
        }
      ],
      "source": [
        "eng2sp"
      ]
    },
    {
      "cell_type": "code",
      "execution_count": null,
      "metadata": {
        "id": "RXRO3Gleb3HU"
      },
      "outputs": [],
      "source": [
        "eng2sp['One'] = ['uno']"
      ]
    },
    {
      "cell_type": "code",
      "execution_count": null,
      "metadata": {
        "id": "oObXWsYYb3HU"
      },
      "outputs": [],
      "source": [
        "eng2sp['One'].append('Uno')"
      ]
    },
    {
      "cell_type": "code",
      "execution_count": null,
      "metadata": {
        "id": "v9vvbW15b3HU"
      },
      "outputs": [],
      "source": [
        "eng2sp['One'].insert(0, 'UNO')"
      ]
    },
    {
      "cell_type": "code",
      "execution_count": null,
      "metadata": {
        "id": "GgX1YzZ_b3HV",
        "outputId": "b3d1a743-1038-4161-87bf-fae10fca121c"
      },
      "outputs": [
        {
          "name": "stdout",
          "output_type": "stream",
          "text": [
            "{'One': ['UNO', 'uno', 0, 'Uno'], 'two': 'dos', 'three': 'tres', 4: 'quatro', 'five': 'sinco', 'Five': 'Sinco', 'ten': 'diez'}\n"
          ]
        }
      ],
      "source": [
        "print(eng2sp)"
      ]
    },
    {
      "cell_type": "code",
      "execution_count": null,
      "metadata": {
        "id": "wNjifci4b3HV"
      },
      "outputs": [],
      "source": [
        "adict = {1: ['uno', 'one'], 2:('two', 'dos'), 3:{'three':'tres'}}"
      ]
    },
    {
      "cell_type": "code",
      "execution_count": null,
      "metadata": {
        "id": "J2clqEuHb3HV",
        "outputId": "c1a30d9c-26ab-417f-dd9d-40ce7332299c"
      },
      "outputs": [
        {
          "name": "stdout",
          "output_type": "stream",
          "text": [
            "dos\n"
          ]
        }
      ],
      "source": [
        "print(adict[2][1])"
      ]
    },
    {
      "cell_type": "code",
      "execution_count": null,
      "metadata": {
        "id": "OxDu2HYdb3HV",
        "outputId": "0d1c0c57-6070-4115-d62e-cfd1c0de672a"
      },
      "outputs": [
        {
          "name": "stdout",
          "output_type": "stream",
          "text": [
            "s\n"
          ]
        }
      ],
      "source": [
        "# How do you access tres in adict?\n",
        "print(adict[3]['three'])"
      ]
    },
    {
      "cell_type": "markdown",
      "metadata": {
        "id": "6fkHw6Ueb3HV"
      },
      "source": [
        "## 9.4 Dictionary methods"
      ]
    },
    {
      "cell_type": "code",
      "execution_count": null,
      "metadata": {
        "id": "U6W5OVe6b3HV",
        "outputId": "13be9008-9483-49fa-a720-0d556630d5ec"
      },
      "outputs": [
        {
          "name": "stdout",
          "output_type": "stream",
          "text": [
            "Help on class dict in module builtins:\n",
            "\n",
            "class dict(object)\n",
            " |  dict() -> new empty dictionary\n",
            " |  dict(mapping) -> new dictionary initialized from a mapping object's\n",
            " |      (key, value) pairs\n",
            " |  dict(iterable) -> new dictionary initialized as if via:\n",
            " |      d = {}\n",
            " |      for k, v in iterable:\n",
            " |          d[k] = v\n",
            " |  dict(**kwargs) -> new dictionary initialized with the name=value pairs\n",
            " |      in the keyword argument list.  For example:  dict(one=1, two=2)\n",
            " |  \n",
            " |  Methods defined here:\n",
            " |  \n",
            " |  __contains__(self, key, /)\n",
            " |      True if the dictionary has the specified key, else False.\n",
            " |  \n",
            " |  __delitem__(self, key, /)\n",
            " |      Delete self[key].\n",
            " |  \n",
            " |  __eq__(self, value, /)\n",
            " |      Return self==value.\n",
            " |  \n",
            " |  __ge__(self, value, /)\n",
            " |      Return self>=value.\n",
            " |  \n",
            " |  __getattribute__(self, name, /)\n",
            " |      Return getattr(self, name).\n",
            " |  \n",
            " |  __getitem__(...)\n",
            " |      x.__getitem__(y) <==> x[y]\n",
            " |  \n",
            " |  __gt__(self, value, /)\n",
            " |      Return self>value.\n",
            " |  \n",
            " |  __init__(self, /, *args, **kwargs)\n",
            " |      Initialize self.  See help(type(self)) for accurate signature.\n",
            " |  \n",
            " |  __iter__(self, /)\n",
            " |      Implement iter(self).\n",
            " |  \n",
            " |  __le__(self, value, /)\n",
            " |      Return self<=value.\n",
            " |  \n",
            " |  __len__(self, /)\n",
            " |      Return len(self).\n",
            " |  \n",
            " |  __lt__(self, value, /)\n",
            " |      Return self<value.\n",
            " |  \n",
            " |  __ne__(self, value, /)\n",
            " |      Return self!=value.\n",
            " |  \n",
            " |  __repr__(self, /)\n",
            " |      Return repr(self).\n",
            " |  \n",
            " |  __setitem__(self, key, value, /)\n",
            " |      Set self[key] to value.\n",
            " |  \n",
            " |  __sizeof__(...)\n",
            " |      D.__sizeof__() -> size of D in memory, in bytes\n",
            " |  \n",
            " |  clear(...)\n",
            " |      D.clear() -> None.  Remove all items from D.\n",
            " |  \n",
            " |  copy(...)\n",
            " |      D.copy() -> a shallow copy of D\n",
            " |  \n",
            " |  get(self, key, default=None, /)\n",
            " |      Return the value for key if key is in the dictionary, else default.\n",
            " |  \n",
            " |  items(...)\n",
            " |      D.items() -> a set-like object providing a view on D's items\n",
            " |  \n",
            " |  keys(...)\n",
            " |      D.keys() -> a set-like object providing a view on D's keys\n",
            " |  \n",
            " |  pop(...)\n",
            " |      D.pop(k[,d]) -> v, remove specified key and return the corresponding value.\n",
            " |      If key is not found, d is returned if given, otherwise KeyError is raised\n",
            " |  \n",
            " |  popitem(...)\n",
            " |      D.popitem() -> (k, v), remove and return some (key, value) pair as a\n",
            " |      2-tuple; but raise KeyError if D is empty.\n",
            " |  \n",
            " |  setdefault(self, key, default=None, /)\n",
            " |      Insert key with a value of default if key is not in the dictionary.\n",
            " |      \n",
            " |      Return the value for key if key is in the dictionary, else default.\n",
            " |  \n",
            " |  update(...)\n",
            " |      D.update([E, ]**F) -> None.  Update D from dict/iterable E and F.\n",
            " |      If E is present and has a .keys() method, then does:  for k in E: D[k] = E[k]\n",
            " |      If E is present and lacks a .keys() method, then does:  for k, v in E: D[k] = v\n",
            " |      In either case, this is followed by: for k in F:  D[k] = F[k]\n",
            " |  \n",
            " |  values(...)\n",
            " |      D.values() -> an object providing a view on D's values\n",
            " |  \n",
            " |  ----------------------------------------------------------------------\n",
            " |  Class methods defined here:\n",
            " |  \n",
            " |  fromkeys(iterable, value=None, /) from builtins.type\n",
            " |      Create a new dictionary with keys from iterable and values set to value.\n",
            " |  \n",
            " |  ----------------------------------------------------------------------\n",
            " |  Static methods defined here:\n",
            " |  \n",
            " |  __new__(*args, **kwargs) from builtins.type\n",
            " |      Create and return a new object.  See help(type) for accurate signature.\n",
            " |  \n",
            " |  ----------------------------------------------------------------------\n",
            " |  Data and other attributes defined here:\n",
            " |  \n",
            " |  __hash__ = None\n",
            "\n"
          ]
        }
      ],
      "source": [
        "help(dict)"
      ]
    },
    {
      "cell_type": "code",
      "execution_count": null,
      "metadata": {
        "id": "BOerMAzFb3HW",
        "outputId": "8e86d739-617d-456a-913b-6b1d2634877a"
      },
      "outputs": [
        {
          "name": "stdout",
          "output_type": "stream",
          "text": [
            "key One maps to value ['UNO', 'uno', 0, 'Uno']\n",
            "key two maps to value dos\n",
            "key three maps to value tres\n",
            "key 4 maps to value quatro\n",
            "key five maps to value sinco\n",
            "key Five maps to value Sinco\n",
            "key ten maps to value diez\n"
          ]
        }
      ],
      "source": [
        "for k in eng2sp.keys(): # the order of the keys is not defined\n",
        "    print(\"key {} maps to value {}\".format(k, eng2sp[k]))"
      ]
    },
    {
      "cell_type": "code",
      "execution_count": null,
      "metadata": {
        "id": "o7dotTqUb3HW",
        "outputId": "5f70aede-e034-4f8e-e3f5-8a7e20e90651"
      },
      "outputs": [
        {
          "name": "stdout",
          "output_type": "stream",
          "text": [
            "['One', 'two', 'three', 4, 'five', 'Five', 'ten']\n"
          ]
        }
      ],
      "source": [
        "print(list(eng2sp.keys()))"
      ]
    },
    {
      "cell_type": "code",
      "execution_count": null,
      "metadata": {
        "id": "NtIAaBNlb3HW",
        "outputId": "8b42f633-a7b6-4e60-c47e-3edce596b3ee"
      },
      "outputs": [
        {
          "name": "stdout",
          "output_type": "stream",
          "text": [
            "[['UNO', 'uno', 0, 'Uno'], 'dos', 'tres', 'quatro', 'sinco', 'Sinco', 'diez']\n"
          ]
        }
      ],
      "source": [
        "print(list(eng2sp.values()))"
      ]
    },
    {
      "cell_type": "code",
      "execution_count": null,
      "metadata": {
        "id": "eh8-0SGhb3HW",
        "outputId": "b626a924-dd9e-41fe-d498-82b2b64f0e01"
      },
      "outputs": [
        {
          "name": "stdout",
          "output_type": "stream",
          "text": [
            "key = One value = ['UNO', 'uno', 0, 'Uno']\n",
            "key = two value = dos\n",
            "key = three value = tres\n",
            "key = 4 value = quatro\n",
            "key = five value = sinco\n",
            "key = Five value = Sinco\n",
            "key = ten value = diez\n"
          ]
        }
      ],
      "source": [
        "# iterate over keys\n",
        "for k in eng2sp:\n",
        "    print('key = {} value = {}'.format(k, eng2sp.get(k)))"
      ]
    },
    {
      "cell_type": "code",
      "execution_count": null,
      "metadata": {
        "id": "QO2wtcFcb3HW",
        "outputId": "15dee2ae-75ed-4d1a-b44b-a6af59fd303f"
      },
      "outputs": [
        {
          "name": "stdout",
          "output_type": "stream",
          "text": [
            "None\n"
          ]
        }
      ],
      "source": [
        "print(eng2sp.get('asdfsf'))"
      ]
    },
    {
      "cell_type": "code",
      "execution_count": null,
      "metadata": {
        "id": "4TaAtr4Xb3HX",
        "outputId": "126ebe7b-bcb9-4230-8197-6dbbac1cfe59"
      },
      "outputs": [
        {
          "name": "stdout",
          "output_type": "stream",
          "text": [
            "None\n"
          ]
        }
      ],
      "source": [
        "print(eng2sp.get(\"Ondfe\"))"
      ]
    },
    {
      "cell_type": "code",
      "execution_count": null,
      "metadata": {
        "id": "t8eno8PXb3HX",
        "outputId": "22c636bd-e3e5-4fae-a188-a591874e7321"
      },
      "outputs": [
        {
          "name": "stdout",
          "output_type": "stream",
          "text": [
            "value =  ['UNO', 'uno', 0, 'Uno']\n",
            "value =  dos\n",
            "value =  tres\n",
            "value =  quatro\n",
            "value =  sinco\n",
            "value =  Sinco\n",
            "value =  diez\n"
          ]
        }
      ],
      "source": [
        "# iterate over values\n",
        "for val in eng2sp.values():\n",
        "    print(\"value = \", val)"
      ]
    },
    {
      "cell_type": "code",
      "execution_count": null,
      "metadata": {
        "id": "5c6MttdCb3HX"
      },
      "outputs": [],
      "source": [
        "values = list(eng2sp.values())"
      ]
    },
    {
      "cell_type": "code",
      "execution_count": null,
      "metadata": {
        "id": "SUC1zJotb3HX",
        "outputId": "970766eb-8db9-4a0d-c9d7-00d51ea87e5a"
      },
      "outputs": [
        {
          "data": {
            "text/plain": [
              "[['UNO', 'uno', 0, 'Uno'], 'dos', 'tres', 'quatro', 'sinco', 'Sinco', 'diez']"
            ]
          },
          "execution_count": 52,
          "metadata": {},
          "output_type": "execute_result"
        }
      ],
      "source": [
        "values"
      ]
    },
    {
      "cell_type": "code",
      "execution_count": null,
      "metadata": {
        "id": "TNxSfdNdb3HX"
      },
      "outputs": [],
      "source": [
        "items = list(eng2sp.items())"
      ]
    },
    {
      "cell_type": "code",
      "execution_count": null,
      "metadata": {
        "id": "Ed56kS8Sb3Hi",
        "outputId": "2c3a4085-777b-431a-e6ea-8e0ef0a1276a"
      },
      "outputs": [
        {
          "name": "stdout",
          "output_type": "stream",
          "text": [
            "[('One', ['UNO', 'uno', 0, 'Uno']), ('two', 'dos'), ('three', 'tres'), (4, 'quatro'), ('five', 'sinco'), ('Five', 'Sinco'), ('ten', 'diez')]\n"
          ]
        }
      ],
      "source": [
        "print(items)"
      ]
    },
    {
      "cell_type": "code",
      "execution_count": null,
      "metadata": {
        "id": "w8TrugJcb3Hi"
      },
      "outputs": [],
      "source": [
        "dict2 = dict(items)\n",
        "print(dict2)"
      ]
    },
    {
      "cell_type": "code",
      "execution_count": null,
      "metadata": {
        "id": "PvfFVAG-b3Hj"
      },
      "outputs": [],
      "source": [
        "for k, v in eng2sp.items():\n",
        "    print('{} -> {}'.format(k, v))"
      ]
    },
    {
      "cell_type": "code",
      "execution_count": null,
      "metadata": {
        "id": "doXA65ifb3Hj"
      },
      "outputs": [],
      "source": [
        "print(eng2sp.popitem())\n",
        "print(eng2sp)"
      ]
    },
    {
      "cell_type": "markdown",
      "metadata": {
        "id": "LGehc_zcb3Hj"
      },
      "source": [
        "## 9.5 Checking keys\n",
        "- in and not in operators can be used to check if some keys exist in a given dictionary\n",
        "- knowing if key exists helps automatically create dictionaries and access corresponding values"
      ]
    },
    {
      "cell_type": "code",
      "execution_count": null,
      "metadata": {
        "id": "5C_Fbi0ab3Hj"
      },
      "outputs": [],
      "source": [
        "\"One\" in eng2sp"
      ]
    },
    {
      "cell_type": "code",
      "execution_count": null,
      "metadata": {
        "id": "Pr_4GZ0Tb3Hk"
      },
      "outputs": [],
      "source": [
        "\"Ten\" in eng2sp"
      ]
    },
    {
      "cell_type": "code",
      "execution_count": null,
      "metadata": {
        "id": "NLSTiLcYb3Hk"
      },
      "outputs": [],
      "source": [
        "\"twenty\" not in eng2sp"
      ]
    },
    {
      "cell_type": "markdown",
      "metadata": {
        "id": "701MHlzpb3Hk"
      },
      "source": [
        "## 9.6 Copying dictionary objects\n",
        "- shallow copy vs deep copy"
      ]
    },
    {
      "cell_type": "code",
      "execution_count": null,
      "metadata": {
        "id": "sOXll81wb3Hk"
      },
      "outputs": [],
      "source": [
        "import copy\n",
        "digits = {1: 'one', 2: 'two', 3: ['three', 'Three', 'THREE']}\n",
        "digits1 = digits # creates an alias\n",
        "digits2 = digits.copy() # shallow copy\n",
        "digits3 = copy.deepcopy(digits) # deep copy"
      ]
    },
    {
      "cell_type": "markdown",
      "metadata": {
        "id": "yIj7wJzIb3Hk"
      },
      "source": [
        "### [visualize in pythontutor.com](https://goo.gl/XmvYkB)"
      ]
    },
    {
      "cell_type": "code",
      "execution_count": null,
      "metadata": {
        "id": "ELr3nkJnb3Hl"
      },
      "outputs": [],
      "source": [
        "from IPython.display import IFrame\n",
        "src = '''\n",
        "http://pythontutor.com/iframe-embed.html#code=import%20copy%0Adigits%20%3D%20%7B1%3A%20'one',%202%3A%20'two',%203%3A%20%5B'three',%20'Three',%20'THREE'%5D%7D%0Adigits1%20%3D%20digits%20%23%20creates%20an%20alias%0Adigits2%20%3D%20digits.copy%28%29%20%23%20shallow%20copy%0Adigits3%20%3D%20copy.deepcopy%28digits%29%20%23%20deep%20copy&codeDivHeight=400&codeDivWidth=350&cumulative=false&curInstr=0&heapPrimitives=false&origin=opt-frontend.js&py=3&rawInputLstJSON=%5B%5D&textReferences=false\n",
        "'''\n",
        "IFrame(src, width=900, height=600)"
      ]
    },
    {
      "cell_type": "markdown",
      "metadata": {
        "id": "tVagFBEhb3Hl"
      },
      "source": [
        "## 9.7 Passing dictionaries to functions\n",
        "- dict is a mutable type\n",
        "- therefore, dict objects are passed by reference"
      ]
    },
    {
      "cell_type": "code",
      "execution_count": null,
      "metadata": {
        "id": "UYII3U2Tb3Hl"
      },
      "outputs": [],
      "source": [
        "# find the histogram (frequency of each unique character) in a word\n",
        "def histogram(word, hist):\n",
        "    for c in word:\n",
        "        c = c.lower()\n",
        "        if c in hist:\n",
        "            hist[c] += 1\n",
        "        else:\n",
        "            hist[c] = 1"
      ]
    },
    {
      "cell_type": "code",
      "execution_count": null,
      "metadata": {
        "id": "fgWtCOF-b3Hl"
      },
      "outputs": [],
      "source": [
        "h = {}\n",
        "histogram('Mississippim', h)\n",
        "for k, v in h.items():\n",
        "    print(k, v)"
      ]
    },
    {
      "cell_type": "markdown",
      "metadata": {
        "id": "zMd39-4Eb3Hm"
      },
      "source": [
        "## 9.8 Returning dict from functions\n",
        "- dict objects can be returned from functions"
      ]
    },
    {
      "cell_type": "code",
      "execution_count": null,
      "metadata": {
        "id": "os9qdIZmb3Hm"
      },
      "outputs": [],
      "source": [
        "def getHist(word):# = \"Mississippi\"\n",
        "    h = {}\n",
        "    for c in word:\n",
        "        if c in h:\n",
        "            h[c] += 1\n",
        "        else:\n",
        "            h[c] = 1\n",
        "    return h"
      ]
    },
    {
      "cell_type": "code",
      "execution_count": null,
      "metadata": {
        "id": "B-2_Xsqpb3Hm"
      },
      "outputs": [],
      "source": [
        "hist = getHist('Mississippi')\n",
        "print(hist)\n",
        "if 'M' in hist:\n",
        "    print('M is in histogram')"
      ]
    },
    {
      "cell_type": "markdown",
      "metadata": {
        "id": "safIRm9ub3Hn"
      },
      "source": [
        "## 9.9 Exercises"
      ]
    },
    {
      "cell_type": "markdown",
      "metadata": {
        "id": "CjtGEIvZb3Hn"
      },
      "source": [
        "1. Count and print letter frequency in a given word. Hint: use get method"
      ]
    },
    {
      "cell_type": "markdown",
      "metadata": {
        "id": "4T6JrvqBb3Ho"
      },
      "source": [
        "2. Write a program that reads some text data and prints a frequency table of the letters in alphabetical order. Case should be ignored. A sample output of the program when the user enters the data \"ThiS is String with Upper and lower case Letters\", would look this:\n",
        "<pre>\n",
        "a  2\n",
        "c  1\n",
        "d  1\n",
        "e  5\n",
        "g  1\n",
        "h  2\n",
        "i  4\n",
        "l  2\n",
        "n  2\n",
        "o  1\n",
        "p  2\n",
        "r  4\n",
        "s  5\n",
        "t  5\n",
        "u  1\n",
        "w  2\n",
        "</pre>"
      ]
    },
    {
      "cell_type": "markdown",
      "metadata": {
        "collapsed": true,
        "id": "M14T-Dptb3Ho"
      },
      "source": [
        "## Kattis problems that can be solved using dict\n",
        "1. I've Been Everywhere, Man -  https://open.kattis.com/problems/everywhere\n",
        "- Seven Wonders - https://open.kattis.com/problems/sevenwonders\n",
        "- ACM Contest Scoring - https://open.kattis.com/problems/acm\n",
        "- Stacking Cups - https://open.kattis.com/problems/cups\n",
        "- A New Alphabet - https://open.kattis.com/problems/anewalphabet\n",
        "- Words for Numbers - https://open.kattis.com/problems/wordsfornumbers\n",
        "- Babelfish - https://open.kattis.com/problems/babelfish\n",
        "- Popular Vote - https://open.kattis.com/problems/vote\n",
        "- Adding Words - https://open.kattis.com/problems/addingwords\n",
        "- Grandpa Bernie - https://open.kattis.com/problems/grandpabernie\n",
        "- Judging Troubles - https://open.kattis.com/problems/judging\n",
        "- Not Amused - https://open.kattis.com/problems/notamused\n",
        "- Engineering English - https://open.kattis.com/problems/engineeringenglish\n",
        "- Hardwood Species - https://open.kattis.com/problems/hardwoodspecies\n",
        "- Conformity - https://open.kattis.com/problems/conformity\n",
        "- Galactic Collegiate Programming Contest - https://open.kattis.com/problems/gcpc\n",
        "- Simplicity - https://open.kattis.com/problems/simplicity"
      ]
    },
    {
      "cell_type": "code",
      "execution_count": null,
      "metadata": {
        "id": "vyNL8XaNb3Ho"
      },
      "outputs": [],
      "source": []
    }
  ],
  "metadata": {
    "kernelspec": {
      "display_name": "Python 3",
      "language": "python",
      "name": "python3"
    },
    "language_info": {
      "codemirror_mode": {
        "name": "ipython",
        "version": 3
      },
      "file_extension": ".py",
      "mimetype": "text/x-python",
      "name": "python",
      "nbconvert_exporter": "python",
      "pygments_lexer": "ipython3",
      "version": "3.7.3"
    },
    "colab": {
      "provenance": [],
      "include_colab_link": true
    }
  },
  "nbformat": 4,
  "nbformat_minor": 0
}